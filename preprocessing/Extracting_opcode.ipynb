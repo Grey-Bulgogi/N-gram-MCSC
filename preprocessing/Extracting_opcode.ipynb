{
 "cells": [
  {
   "cell_type": "markdown",
   "metadata": {},
   "source": [
    "### Extract mnemonic from .Asm file"
   ]
  },
  {
   "cell_type": "code",
   "execution_count": 1,
   "metadata": {},
   "outputs": [],
   "source": [
    "import os\n",
    "import re\n",
    "import pickle\n",
    "import pandas as pd"
   ]
  },
  {
   "cell_type": "markdown",
   "metadata": {},
   "source": [
    "### Asm 파일에서 code section을 알려주는 sign 추출"
   ]
  },
  {
   "cell_type": "code",
   "execution_count": 2,
   "metadata": {},
   "outputs": [],
   "source": [
    "def make_opcode():\n",
    "    return set(pd.read_csv('opcode_set.csv').apply(lambda x: x.str.lower()).values.reshape(-1))"
   ]
  },
  {
   "cell_type": "code",
   "execution_count": 3,
   "metadata": {
    "scrolled": true
   },
   "outputs": [
    {
     "data": {
      "text/plain": [
       "['.code', '.itext', '.text', '.text1', 'code']"
      ]
     },
     "execution_count": 3,
     "metadata": {},
     "output_type": "execute_result"
    }
   ],
   "source": [
    "def code_section():\n",
    "    DF = pd.read_excel('D:/virus/code_section.xlsx')\n",
    "    code_section = []\n",
    "    \n",
    "    for i in DF.values.reshape(-1):\n",
    "        section_name, content = i.split('–')\n",
    "        \n",
    "        if 'Code Section' in content:\n",
    "            code_section.append(section_name.replace(' ', '').lower())\n",
    "            \n",
    "    return code_section\n",
    "\n",
    "code_section()"
   ]
  },
  {
   "cell_type": "code",
   "execution_count": 4,
   "metadata": {},
   "outputs": [],
   "source": [
    "def is_code(line, start_text):\n",
    "    temp = set(line.lower().split(':'))\n",
    "    temp = temp.intersection(start_text)\n",
    "    \n",
    "    if temp == set():\n",
    "        return False\n",
    "    \n",
    "    return True"
   ]
  },
  {
   "cell_type": "code",
   "execution_count": 5,
   "metadata": {},
   "outputs": [],
   "source": [
    "opcode_set = make_opcode()\n",
    "empty = set()\n",
    "\n",
    "file_path = 'D:/virus/asm_data/'\n",
    "save_path = 'D:/virus/opcode/'\n",
    "\n",
    "file_list = os.listdir(file_path)\n",
    "no_opcode_file = []\n",
    "\n",
    "start_text = set(code_section())"
   ]
  },
  {
   "cell_type": "code",
   "execution_count": 7,
   "metadata": {},
   "outputs": [
    {
     "data": {
      "text/plain": [
       "{'.code', '.icode', '.itext', '.text', '.text1', '.tixt', 'code', 'seg'}"
      ]
     },
     "execution_count": 7,
     "metadata": {},
     "output_type": "execute_result"
    }
   ],
   "source": [
    "start_text.add('.tixt')\n",
    "start_text.add('.icode')\n",
    "start_text.add('seg')\n",
    "start_text"
   ]
  },
  {
   "cell_type": "markdown",
   "metadata": {},
   "source": [
    "#### ASM 파일에서 code section 부분의 opcode 추출"
   ]
  },
  {
   "cell_type": "code",
   "execution_count": 8,
   "metadata": {},
   "outputs": [
    {
     "name": "stdout",
     "output_type": "stream",
     "text": [
      "Now processing the 1th file\n",
      "0Iv6U2hbcP1xeBitW5Oo_8.asm doesn't have any opcode in CODE or TEXT section\n",
      "0JOb8TyN6VBGCrjAkzfP_2.asm doesn't have any opcode in CODE or TEXT section\n",
      "0Q4ALVSRnlHUBjyOb1sw_8.asm doesn't have any opcode in CODE or TEXT section\n",
      "0rgi8OfjvwKbA57IXVcE_3.asm doesn't have any opcode in CODE or TEXT section\n",
      "15sGnFeEvMIgpQ8acbUu_8.asm doesn't have any opcode in CODE or TEXT section\n",
      "1AXEyUDVt42T6ZFx8COo_8.asm doesn't have any opcode in CODE or TEXT section\n",
      "1hAQV0ebMLSgy4ktpfoC_8.asm doesn't have any opcode in CODE or TEXT section\n",
      "1IpWLz6eyhVxDAfQMKEd_5.asm doesn't have any opcode in CODE or TEXT section\n",
      "1x2u5Ws7tzFRAgyqoJBV_2.asm doesn't have any opcode in CODE or TEXT section\n"
     ]
    },
    {
     "ename": "KeyboardInterrupt",
     "evalue": "",
     "output_type": "error",
     "traceback": [
      "\u001b[1;31m---------------------------------------------------------------------------\u001b[0m",
      "\u001b[1;31mKeyboardInterrupt\u001b[0m                         Traceback (most recent call last)",
      "\u001b[1;32m<ipython-input-8-409f3440d087>\u001b[0m in \u001b[0;36m<module>\u001b[1;34m()\u001b[0m\n\u001b[0;32m      7\u001b[0m     \u001b[1;32mfor\u001b[0m \u001b[0mline\u001b[0m \u001b[1;32min\u001b[0m \u001b[0mopen\u001b[0m\u001b[1;33m(\u001b[0m\u001b[0mfile_path\u001b[0m\u001b[1;33m+\u001b[0m\u001b[0mfile\u001b[0m\u001b[1;33m,\u001b[0m\u001b[1;34m'r'\u001b[0m\u001b[1;33m,\u001b[0m\u001b[0mencoding\u001b[0m\u001b[1;33m=\u001b[0m\u001b[1;34m'ISO-8859-1'\u001b[0m\u001b[1;33m)\u001b[0m\u001b[1;33m:\u001b[0m\u001b[1;33m\u001b[0m\u001b[0m\n\u001b[0;32m      8\u001b[0m \u001b[1;33m\u001b[0m\u001b[0m\n\u001b[1;32m----> 9\u001b[1;33m         \u001b[1;32mif\u001b[0m \u001b[1;32mnot\u001b[0m \u001b[0mis_code\u001b[0m\u001b[1;33m(\u001b[0m\u001b[0mline\u001b[0m\u001b[1;33m,\u001b[0m \u001b[0mstart_text\u001b[0m\u001b[1;33m)\u001b[0m\u001b[1;33m:\u001b[0m\u001b[1;33m\u001b[0m\u001b[0m\n\u001b[0m\u001b[0;32m     10\u001b[0m             \u001b[1;32mcontinue\u001b[0m\u001b[1;33m\u001b[0m\u001b[0m\n\u001b[0;32m     11\u001b[0m \u001b[1;33m\u001b[0m\u001b[0m\n",
      "\u001b[1;31mKeyboardInterrupt\u001b[0m: "
     ]
    }
   ],
   "source": [
    "check = lambda x: True if not start_text[0] in x and not start_text[1] in x else False\n",
    "\n",
    "for num, file in enumerate(file_list):\n",
    "    \n",
    "    file_opcode = []\n",
    "    \n",
    "    for line in open(file_path+file,'r',encoding='ISO-8859-1'):\n",
    "        \n",
    "        if not is_code(line, start_text):\n",
    "            continue\n",
    "\n",
    "        words = line.split()\n",
    "        words = set(words)\n",
    "        \n",
    "        opcode = words.intersection(opcode_set)\n",
    "    \n",
    "        if opcode == empty:\n",
    "            continue\n",
    "            \n",
    "        else:\n",
    "            file_opcode.append(opcode.pop())\n",
    "            continue\n",
    "            \n",
    "    if file_opcode == []:\n",
    "        no_opcode_file.append(file)\n",
    "        print(f\"{file} doesn't have any opcode in CODE or TEXT section\")\n",
    "        continue\n",
    "        \n",
    "    file_name = file.replace('.asm', '.pkl')\n",
    "    \n",
    "    with open(save_path+file_name, 'wb') as fp:\n",
    "        pickle.dump(file_opcode, fp)\n",
    "    \n",
    "    if num% 1000 == 0:\n",
    "        print('Now processing the {}th file'.format(num+1))"
   ]
  },
  {
   "cell_type": "markdown",
   "metadata": {},
   "source": [
    "### pickle file 읽는 법"
   ]
  },
  {
   "cell_type": "code",
   "execution_count": 164,
   "metadata": {},
   "outputs": [],
   "source": [
    "with open(save_path+file_name, 'rb') as f:\n",
    "    a = pickle.load(f)"
   ]
  }
 ],
 "metadata": {
  "kernelspec": {
   "display_name": "Python 3",
   "language": "python",
   "name": "python3"
  },
  "language_info": {
   "codemirror_mode": {
    "name": "ipython",
    "version": 3
   },
   "file_extension": ".py",
   "mimetype": "text/x-python",
   "name": "python",
   "nbconvert_exporter": "python",
   "pygments_lexer": "ipython3",
   "version": "3.6.4"
  }
 },
 "nbformat": 4,
 "nbformat_minor": 2
}
