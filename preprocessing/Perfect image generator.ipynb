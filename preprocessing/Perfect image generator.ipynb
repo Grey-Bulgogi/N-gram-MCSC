{
 "cells": [
  {
   "cell_type": "code",
   "execution_count": 1,
   "metadata": {},
   "outputs": [],
   "source": [
    "import os\n",
    "import re\n",
    "import pickle\n",
    "import numpy as np\n",
    "import hashlib as h\n",
    "\n",
    "from nltk.util import ngrams\n",
    "from ttictoc import TicToc\n",
    "from skimage import io"
   ]
  },
  {
   "cell_type": "markdown",
   "metadata": {},
   "source": [
    "# SHA768 24 x 32"
   ]
  },
  {
   "cell_type": "code",
   "execution_count": 2,
   "metadata": {},
   "outputs": [],
   "source": [
    "def make_hash_768(opcode_list, bits, gram):\n",
    "    \n",
    "    hash_v = np.zeros([bits[0]])\n",
    "\n",
    "    if gram == None:\n",
    "        \n",
    "        for opcode in opcode_list:\n",
    "            \n",
    "            binary1 = bin(int(h.sha256(opcode.encode()).hexdigest(), 16))[2:]\n",
    "            binary1 = list(binary1)\n",
    "            temp = bits[1] - len(binary1)\n",
    "            for i in range(temp):\n",
    "                binary1.insert(0, '0')\n",
    "\n",
    "            binary2 = bin(int(h.sha512(opcode.encode()).hexdigest(), 16))[2:]\n",
    "            binary2 = list(binary2)\n",
    "            temp = bits[2] - len(binary2)\n",
    "            for i in range(temp):\n",
    "                binary2.insert(0, '0')\n",
    "\n",
    "            binary = binary2 + binary1             # SHA-512 + SHA-256\n",
    "            binary = np.array(list(map(lambda x: -1 if x == '0'else 1, binary)))\n",
    "            hash_v = hash_v + binary\n",
    "    \n",
    "    elif gram == 2:\n",
    "        \n",
    "        opcode_ngram_tuple = list(ngrams(opcode_list, n=gram))\n",
    "        \n",
    "        for word1, word2 in opcode_ngram_tuple:\n",
    "            \n",
    "            opcode = word1+word2\n",
    "            \n",
    "            binary1 = bin(int(h.sha256(opcode.encode()).hexdigest(), 16))[2:]\n",
    "            binary1 = list(binary1)\n",
    "            temp = bits[1] - len(binary1)\n",
    "            for i in range(temp):\n",
    "                binary1.insert(0, '0')\n",
    "\n",
    "            binary2 = bin(int(h.sha512(opcode.encode()).hexdigest(), 16))[2:]\n",
    "            binary2 = list(binary2)\n",
    "            temp = bits[2] - len(binary2)\n",
    "            for i in range(temp):\n",
    "                binary2.insert(0, '0')\n",
    "\n",
    "            binary = binary2 + binary1             # SHA-512 + SHA-256\n",
    "            binary = np.array(list(map(lambda x: -1 if x == '0'else 1, binary)))\n",
    "            hash_v = hash_v + binary\n",
    "\n",
    "    elif gram == 3:\n",
    "        opcode_ngram_tuple = list(ngrams(opcode_list, n=gram))\n",
    "        \n",
    "        for word1, word2, word3 in opcode_ngram_tuple:\n",
    "            \n",
    "            opcode = word1+word2+word3\n",
    "            \n",
    "            binary1 = bin(int(h.sha256(opcode.encode()).hexdigest(), 16))[2:]\n",
    "            binary1 = list(binary1)\n",
    "            temp = bits[1] - len(binary1)\n",
    "            for i in range(temp):\n",
    "                binary1.insert(0, '0')\n",
    "\n",
    "            binary2 = bin(int(h.sha512(opcode.encode()).hexdigest(), 16))[2:]\n",
    "            binary2 = list(binary2)\n",
    "            temp = bits[2] - len(binary2)\n",
    "            for i in range(temp):\n",
    "                binary2.insert(0, '0')\n",
    "\n",
    "            binary = binary2 + binary1             # SHA-512 + SHA-256\n",
    "            binary = np.array(list(map(lambda x: -1 if x == '0'else 1, binary)))\n",
    "            hash_v = hash_v + binary\n",
    "            \n",
    "    elif gram == 4:\n",
    "        opcode_ngram_tuple = list(ngrams(opcode_list, n=gram))\n",
    "        \n",
    "        for word1, word2, word3, word4 in opcode_ngram_tuple:\n",
    "            \n",
    "            opcode = word1+word2+word3+word4\n",
    "            \n",
    "            binary1 = bin(int(h.sha256(opcode.encode()).hexdigest(), 16))[2:]\n",
    "            binary1 = list(binary1)\n",
    "            temp = bits[1] - len(binary1)\n",
    "            for i in range(temp):\n",
    "                binary1.insert(0, '0')\n",
    "\n",
    "            binary2 = bin(int(h.sha512(opcode.encode()).hexdigest(), 16))[2:]\n",
    "            binary2 = list(binary2)\n",
    "            temp = bits[2] - len(binary2)\n",
    "            for i in range(temp):\n",
    "                binary2.insert(0, '0')\n",
    "\n",
    "            binary = binary2 + binary1             # SHA-512 + SHA-256\n",
    "            binary = np.array(list(map(lambda x: -1 if x == '0'else 1, binary)))\n",
    "            hash_v = hash_v + binary\n",
    "            \n",
    "    return hash_v"
   ]
  },
  {
   "cell_type": "code",
   "execution_count": 3,
   "metadata": {},
   "outputs": [],
   "source": [
    "def make_img_768(bits, width, height, save_path, gram=None):\n",
    "    opcode_path = 'D:/virus/opcode/'\n",
    "    file_list = os.listdir(opcode_path)\n",
    "        \n",
    "    if not os.path.exists(save_path):\n",
    "        os.mkdir(save_path)\n",
    "    \n",
    "    for num, file in enumerate(file_list):\n",
    "        \n",
    "        with open(opcode_path + file, 'rb') as f:\n",
    "            opcode_list = pickle.load(f)\n",
    "        \n",
    "        hash_list = make_hash_768(opcode_list, bits, gram)\n",
    "        \n",
    "        # let's make the image\n",
    "        for index, each in enumerate(hash_list):\n",
    "            if each > 0:\n",
    "                hash_list[index] = 255.\n",
    "            else:\n",
    "                hash_list[index] = 0.\n",
    "    \n",
    "        image = np.asarray(hash_list, dtype= np.uint8).reshape(height, width)\n",
    "\n",
    "        file = re.sub('.pkl', '.png', file)\n",
    "        PATH = save_path + file\n",
    "        io.imsave(PATH, image)"
   ]
  },
  {
   "cell_type": "code",
   "execution_count": 4,
   "metadata": {},
   "outputs": [],
   "source": [
    "def make_hash(opcode_list, bits, gram):\n",
    "    \n",
    "    hash_v = np.zeros([bits])\n",
    "\n",
    "    if gram == None:\n",
    "        \n",
    "        for opcode in opcode_list:\n",
    "            binary = bin(int(h.sha512(opcode.encode()).hexdigest(), 16))[2:]\n",
    "            binary = list(binary)\n",
    "            temp = bits - len(binary)\n",
    "            \n",
    "            for i in range(temp):\n",
    "                binary.insert(0, '0')\n",
    "                \n",
    "            binary = np.array(list(map(lambda x: -1 if x == '0'else 1, binary)))\n",
    "            hash_v = hash_v + binary\n",
    "    \n",
    "    elif gram == 2:\n",
    "        \n",
    "        opcode_ngram_tuple = list(ngrams(opcode_list, n=gram))\n",
    "        \n",
    "        for word1, word2 in opcode_ngram_tuple:\n",
    "            \n",
    "            opcode = word1+word2\n",
    "            \n",
    "            binary = bin(int(h.sha512(opcode.encode()).hexdigest(), 16))[2:]\n",
    "            binary = list(binary)\n",
    "            temp = bits - len(binary)   # temp is for inserting '0' omitted automatically\n",
    "            \n",
    "            for i in range(temp):\n",
    "                binary.insert(0, '0')\n",
    "                \n",
    "            binary = np.array(list(map(lambda x: -1 if x == '0'else 1, binary)))\n",
    "            hash_v = hash_v + binary\n",
    "\n",
    "    elif gram == 3:\n",
    "        opcode_ngram_tuple = list(ngrams(opcode_list, n=gram))\n",
    "        \n",
    "        for word1, word2, word3 in opcode_ngram_tuple:\n",
    "            \n",
    "            opcode = word1+word2+word3\n",
    "            \n",
    "            binary = bin(int(h.sha512(opcode.encode()).hexdigest(), 16))[2:]\n",
    "            binary = list(binary)\n",
    "            temp = bits - len(binary)   # temp is for inserting '0' omitted automatically\n",
    "            \n",
    "            for i in range(temp):\n",
    "                binary.insert(0, '0')\n",
    "                \n",
    "            binary = np.array(list(map(lambda x: -1 if x == '0'else 1, binary)))\n",
    "            hash_v = hash_v + binary\n",
    "            \n",
    "    return hash_v"
   ]
  },
  {
   "cell_type": "code",
   "execution_count": 5,
   "metadata": {},
   "outputs": [],
   "source": [
    "def make_img(bits, width, height, save_path, gram=None):\n",
    "    opcode_path = 'D:/virus/opcode/'\n",
    "    file_list = os.listdir(opcode_path)\n",
    "        \n",
    "    if not os.path.exists(save_path):\n",
    "        os.mkdir(save_path)\n",
    "    \n",
    "    for num, file in enumerate(file_list):\n",
    "        \n",
    "        with open(opcode_path + file, 'rb') as f:\n",
    "            opcode_list = pickle.load(f)\n",
    "        \n",
    "        hash_list = make_hash(opcode_list, bits, gram)\n",
    "        \n",
    "        # let's make the image\n",
    "        for index, each in enumerate(hash_list):\n",
    "            if each > 0:\n",
    "                hash_list[index] = 255.\n",
    "            else:\n",
    "                hash_list[index] = 0.\n",
    "    \n",
    "        image = np.asarray(hash_list, dtype= np.uint8).reshape(height, width)\n",
    "\n",
    "        file = re.sub('.pkl', '.png', file)\n",
    "        PATH = save_path + file\n",
    "        io.imsave(PATH, image)"
   ]
  },
  {
   "cell_type": "markdown",
   "metadata": {},
   "source": [
    "# SHA-512 1gram"
   ]
  },
  {
   "cell_type": "code",
   "execution_count": 10,
   "metadata": {},
   "outputs": [
    {
     "name": "stdout",
     "output_type": "stream",
     "text": [
      "12066.35860133171\n"
     ]
    }
   ],
   "source": [
    "t = TicToc()\n",
    "\n",
    "bits = 512\n",
    "width = 16\n",
    "height = 32\n",
    "save_path ='D:/virus/image/1gram/'\n",
    "\n",
    "t.tic()\n",
    "make_img(bits, width, height, save_path)  # default: 1garm\n",
    "t.toc()\n",
    "\n",
    "print(t.elapsed)"
   ]
  },
  {
   "cell_type": "markdown",
   "metadata": {},
   "source": [
    "## SHA512 with 2gram"
   ]
  },
  {
   "cell_type": "code",
   "execution_count": 8,
   "metadata": {},
   "outputs": [
    {
     "name": "stderr",
     "output_type": "stream",
     "text": [
      "C:\\DTools\\Anaconda3\\envs\\pytorch\\lib\\site-packages\\skimage\\io\\_io.py:141: UserWarning: D:/virus/image/2gram/asKPnzUXjShMc0Tl6Wge_5.png is a low contrast image\n",
      "  warn('%s is a low contrast image' % fname)\n",
      "C:\\DTools\\Anaconda3\\envs\\pytorch\\lib\\site-packages\\skimage\\io\\_io.py:141: UserWarning: D:/virus/image/2gram/ei0C84XpoqcAS6v5ZExI_5.png is a low contrast image\n",
      "  warn('%s is a low contrast image' % fname)\n",
      "C:\\DTools\\Anaconda3\\envs\\pytorch\\lib\\site-packages\\skimage\\io\\_io.py:141: UserWarning: D:/virus/image/2gram/F6nOrb9ipd0SskWuJjUw_5.png is a low contrast image\n",
      "  warn('%s is a low contrast image' % fname)\n",
      "C:\\DTools\\Anaconda3\\envs\\pytorch\\lib\\site-packages\\skimage\\io\\_io.py:141: UserWarning: D:/virus/image/2gram/FdiEeV3N8WtUSXjmcrxo_5.png is a low contrast image\n",
      "  warn('%s is a low contrast image' % fname)\n",
      "C:\\DTools\\Anaconda3\\envs\\pytorch\\lib\\site-packages\\skimage\\io\\_io.py:141: UserWarning: D:/virus/image/2gram/JBEzM0ZsuWaDt8bLypPv_4.png is a low contrast image\n",
      "  warn('%s is a low contrast image' % fname)\n"
     ]
    },
    {
     "name": "stdout",
     "output_type": "stream",
     "text": [
      "12266.311694860458\n"
     ]
    }
   ],
   "source": [
    "t = TicToc()\n",
    "bits = 512\n",
    "width = 16\n",
    "height = 32\n",
    "save_path ='D:/virus/image/2gram/'\n",
    "\n",
    "t.tic()\n",
    "make_img(bits, width, height, save_path, gram=2)  # default: 1garm\n",
    "t.toc()\n",
    "\n",
    "print(t.elapsed)"
   ]
  },
  {
   "cell_type": "markdown",
   "metadata": {},
   "source": [
    "## SHA512 with 3gram"
   ]
  },
  {
   "cell_type": "code",
   "execution_count": 9,
   "metadata": {},
   "outputs": [
    {
     "name": "stderr",
     "output_type": "stream",
     "text": [
      "C:\\DTools\\Anaconda3\\envs\\pytorch\\lib\\site-packages\\skimage\\io\\_io.py:141: UserWarning: D:/virus/image/3gram/asKPnzUXjShMc0Tl6Wge_5.png is a low contrast image\n",
      "  warn('%s is a low contrast image' % fname)\n",
      "C:\\DTools\\Anaconda3\\envs\\pytorch\\lib\\site-packages\\skimage\\io\\_io.py:141: UserWarning: D:/virus/image/3gram/DyHEmqIAUN7LVO2a5zZc_8.png is a low contrast image\n",
      "  warn('%s is a low contrast image' % fname)\n",
      "C:\\DTools\\Anaconda3\\envs\\pytorch\\lib\\site-packages\\skimage\\io\\_io.py:141: UserWarning: D:/virus/image/3gram/ei0C84XpoqcAS6v5ZExI_5.png is a low contrast image\n",
      "  warn('%s is a low contrast image' % fname)\n",
      "C:\\DTools\\Anaconda3\\envs\\pytorch\\lib\\site-packages\\skimage\\io\\_io.py:141: UserWarning: D:/virus/image/3gram/F6nOrb9ipd0SskWuJjUw_5.png is a low contrast image\n",
      "  warn('%s is a low contrast image' % fname)\n",
      "C:\\DTools\\Anaconda3\\envs\\pytorch\\lib\\site-packages\\skimage\\io\\_io.py:141: UserWarning: D:/virus/image/3gram/FdiEeV3N8WtUSXjmcrxo_5.png is a low contrast image\n",
      "  warn('%s is a low contrast image' % fname)\n",
      "C:\\DTools\\Anaconda3\\envs\\pytorch\\lib\\site-packages\\skimage\\io\\_io.py:141: UserWarning: D:/virus/image/3gram/HXoz2NOQtTgJ04RsL5ME_8.png is a low contrast image\n",
      "  warn('%s is a low contrast image' % fname)\n",
      "C:\\DTools\\Anaconda3\\envs\\pytorch\\lib\\site-packages\\skimage\\io\\_io.py:141: UserWarning: D:/virus/image/3gram/JBEzM0ZsuWaDt8bLypPv_4.png is a low contrast image\n",
      "  warn('%s is a low contrast image' % fname)\n"
     ]
    },
    {
     "name": "stdout",
     "output_type": "stream",
     "text": [
      "12201.407013893127\n"
     ]
    }
   ],
   "source": [
    "t = TicToc()\n",
    "bits = 512\n",
    "width = 16\n",
    "height = 32\n",
    "save_path ='D:/virus/image/3gram/'\n",
    "\n",
    "t.tic()\n",
    "make_img(bits, width, height, save_path, gram=3)  # default: 1garm\n",
    "t.toc()\n",
    "\n",
    "print(t.elapsed)"
   ]
  },
  {
   "cell_type": "markdown",
   "metadata": {},
   "source": [
    "## SHA512 with weighted img"
   ]
  },
  {
   "cell_type": "code",
   "execution_count": 126,
   "metadata": {
    "scrolled": false
   },
   "outputs": [
    {
     "name": "stderr",
     "output_type": "stream",
     "text": [
      "100%|███████████████████████████████████████████████████████████████████████████| 3/3 [00:04<00:00,  1.35s/it]\n",
      "10736it [00:04, 2313.69it/s]\n"
     ]
    }
   ],
   "source": [
    "from tqdm import tqdm\n",
    "from PIL import Image\n",
    "\n",
    "gram_list = ['1gram/', '2gram/', '3gram/']\n",
    "read_path = 'D:/virus/image/'\n",
    "\n",
    "image_gram_list = [[], [], []]\n",
    "file_name_l = []\n",
    "\n",
    "for i in tqdm(range(len(gram_list))):\n",
    "    temp = os.listdir(read_path + gram_list[i])\n",
    "    \n",
    "    for file in temp:\n",
    "        PATH = read_path + gram_list[i] + file\n",
    "        temp_image = np.array(Image.open(PATH))\n",
    "        image_gram_list[i].append(temp_image)\n",
    "        \n",
    "        file_name_l.append(PATH.split('/')[-1])\n",
    "        \n",
    "file_index = 0\n",
    "\n",
    "for img1, img2, img3 in tqdm(zip(image_gram_list[0], image_gram_list[1], image_gram_list[2])):\n",
    "    \n",
    "    img1 = np.expand_dims(img1, axis=0)\n",
    "    img2 = np.expand_dims(img2, axis=0)\n",
    "    img3 = np.expand_dims(img3, axis=0)\n",
    "    \n",
    "    weighted_img = np.concatenate([img1, img2, img3], axis=0)\n",
    "    \n",
    "    file_name = re.sub('.png', '',file_name_l[file_index])\n",
    "    PATH = read_path + 'weighted/' + file_name\n",
    "    np.save(PATH, weighted_img)\n",
    "    \n",
    "    file_index += 1"
   ]
  },
  {
   "cell_type": "markdown",
   "metadata": {},
   "source": [
    "## sha 768 1gram"
   ]
  },
  {
   "cell_type": "code",
   "execution_count": null,
   "metadata": {},
   "outputs": [],
   "source": [
    "t = TicToc()\n",
    "\n",
    "bits = [768, 256, 512]\n",
    "bits1 = 256\n",
    "bits2 = 512\n",
    "\n",
    "width = 24\n",
    "height = 32\n",
    "save_path ='D:/virus/image/1gram_768/'\n",
    "\n",
    "t.tic()\n",
    "make_img_768(bits, width, height, save_path)  # default: 1garm\n",
    "t.toc()\n",
    "\n",
    "print(t.elapsed)"
   ]
  },
  {
   "cell_type": "markdown",
   "metadata": {},
   "source": [
    "## sha 768 2gram"
   ]
  },
  {
   "cell_type": "code",
   "execution_count": null,
   "metadata": {},
   "outputs": [],
   "source": [
    "t = TicToc()\n",
    "\n",
    "bits = [768, 256, 512]\n",
    "bits1 = 256\n",
    "bits2 = 512\n",
    "\n",
    "width = 24\n",
    "height = 32\n",
    "save_path ='D:/virus/image/2gram_768/'\n",
    "\n",
    "t.tic()\n",
    "make_img_768(bits, width, height, save_path, 2)  # default: 1garm\n",
    "t.toc()\n",
    "\n",
    "print(t.elapsed)"
   ]
  },
  {
   "cell_type": "markdown",
   "metadata": {},
   "source": [
    "## SHA768 3gram 어디로 날라감?"
   ]
  },
  {
   "cell_type": "code",
   "execution_count": null,
   "metadata": {},
   "outputs": [],
   "source": []
  },
  {
   "cell_type": "markdown",
   "metadata": {},
   "source": [
    "## SHA768 4gram"
   ]
  },
  {
   "cell_type": "code",
   "execution_count": null,
   "metadata": {},
   "outputs": [],
   "source": [
    "t = TicToc()\n",
    "\n",
    "bits = [768, 256, 512]\n",
    "bits1 = 256\n",
    "bits2 = 512\n",
    "\n",
    "width = 24\n",
    "height = 32\n",
    "save_path ='D:/virus/image/4gram_768/'\n",
    "\n",
    "t.tic()\n",
    "make_img_768(bits, width, height, save_path, 4)  # default: 1garm\n",
    "t.toc()\n",
    "\n",
    "print(t.elapsed)"
   ]
  },
  {
   "cell_type": "markdown",
   "metadata": {},
   "source": [
    "## SHA768 with weighted"
   ]
  },
  {
   "cell_type": "code",
   "execution_count": 5,
   "metadata": {},
   "outputs": [
    {
     "name": "stderr",
     "output_type": "stream",
     "text": [
      "100%|███████████████████████████████████████████████████████████████████████████| 3/3 [00:04<00:00,  1.42s/it]\n",
      "10736it [00:06, 1620.19it/s]\n"
     ]
    }
   ],
   "source": [
    "from tqdm import tqdm\n",
    "from PIL import Image\n",
    "\n",
    "gram_list = ['1gram_768/', '2gram_768/', '3gram_768/']\n",
    "read_path = 'D:/virus/image/'\n",
    "\n",
    "image_gram_list = [[], [], []]\n",
    "file_name_l = []\n",
    "\n",
    "for i in tqdm(range(len(gram_list))):\n",
    "    temp = os.listdir(read_path + gram_list[i])\n",
    "    \n",
    "    for file in temp:\n",
    "        PATH = read_path + gram_list[i] + file\n",
    "        temp_image = np.array(Image.open(PATH))\n",
    "        image_gram_list[i].append(temp_image)\n",
    "        \n",
    "        file_name_l.append(PATH.split('/')[-1])\n",
    "        \n",
    "file_index = 0\n",
    "\n",
    "if not os.path.exists(read_path + 'weighted_768'):\n",
    "    os.mkdir(read_path +'weighted_768')\n",
    "\n",
    "for img1, img2, img3 in tqdm(zip(image_gram_list[0], image_gram_list[1], image_gram_list[2])):\n",
    "    \n",
    "    img1 = np.expand_dims(img1, axis=0)\n",
    "    img2 = np.expand_dims(img2, axis=0)\n",
    "    img3 = np.expand_dims(img3, axis=0)\n",
    "    \n",
    "    weighted_img = np.concatenate([img1, img2, img3], axis=0)\n",
    "    \n",
    "    file_name = re.sub('.png', '',file_name_l[file_index])\n",
    "    PATH = read_path + 'weighted_768/' + file_name\n",
    "    np.save(PATH, weighted_img)\n",
    "    \n",
    "    file_index += 1"
   ]
  },
  {
   "cell_type": "code",
   "execution_count": null,
   "metadata": {},
   "outputs": [],
   "source": []
  }
 ],
 "metadata": {
  "kernelspec": {
   "display_name": "pytorch",
   "language": "python",
   "name": "pytorch"
  },
  "language_info": {
   "codemirror_mode": {
    "name": "ipython",
    "version": 3
   },
   "file_extension": ".py",
   "mimetype": "text/x-python",
   "name": "python",
   "nbconvert_exporter": "python",
   "pygments_lexer": "ipython3",
   "version": "3.7.3"
  }
 },
 "nbformat": 4,
 "nbformat_minor": 2
}
